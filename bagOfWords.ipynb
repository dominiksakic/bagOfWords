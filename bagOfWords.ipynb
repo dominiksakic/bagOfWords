{
  "nbformat": 4,
  "nbformat_minor": 0,
  "metadata": {
    "colab": {
      "provenance": [],
      "authorship_tag": "ABX9TyNs7tTcsJdnabfSqaw5ovtX",
      "include_colab_link": true
    },
    "kernelspec": {
      "name": "python3",
      "display_name": "Python 3"
    },
    "language_info": {
      "name": "python"
    }
  },
  "cells": [
    {
      "cell_type": "markdown",
      "metadata": {
        "id": "view-in-github",
        "colab_type": "text"
      },
      "source": [
        "<a href=\"https://colab.research.google.com/github/dominiksakic/bagOfWords/blob/main/bagOfWords.ipynb\" target=\"_parent\"><img src=\"https://colab.research.google.com/assets/colab-badge.svg\" alt=\"Open In Colab\"/></a>"
      ]
    },
    {
      "cell_type": "code",
      "execution_count": 5,
      "metadata": {
        "colab": {
          "base_uri": "https://localhost:8080/"
        },
        "id": "ZS1mTvP9KxoF",
        "outputId": "0adc7109-389d-4592-81e0-e858b735d4b2"
      },
      "outputs": [
        {
          "output_type": "stream",
          "name": "stdout",
          "text": [
            "  % Total    % Received % Xferd  Average Speed   Time    Time     Time  Current\n",
            "                                 Dload  Upload   Total   Spent    Left  Speed\n",
            "100 80.2M  100 80.2M    0     0  6210k      0  0:00:13  0:00:13 --:--:--  9.7M\n"
          ]
        }
      ],
      "source": [
        "# Download and unzip data\n",
        "!curl -O https://ai.stanford.edu/~amaas/data/sentiment/aclImdb_v1.tar.gz\n",
        "!tar -xf aclImdb_v1.tar.gz"
      ]
    },
    {
      "cell_type": "code",
      "source": [
        "import os, pathlib, shutil, random\n",
        "\n",
        "# Create a Validation set\n",
        "base_dir = pathlib.Path('aclImdb')\n",
        "val_dir = base_dir / 'val' # No need for string concat, thanks to pathlib\n",
        "train_dir = base_dir / 'train'\n",
        "for category in (\"neg\", \"pos\"):\n",
        "  os.makedirs(val_dir / category, exist_ok=True)\n",
        "  files = os.listdir(train_dir / category)\n",
        "  random.Random(1337).shuffle(files)\n",
        "  num_val_samples = int(0.2 *len(files))\n",
        "  val_files = files[-num_val_samples:]\n",
        "  for fname in val_files:\n",
        "    shutil.move(train_dir / category /fname, val_dir / category / fname)"
      ],
      "metadata": {
        "id": "Mwn0PtLhLlpq"
      },
      "execution_count": 19,
      "outputs": []
    },
    {
      "cell_type": "code",
      "source": [
        "from tensorflow import keras\n",
        "batch_size = 32\n",
        "\n",
        "train_ds = keras.utils.text_dataset_from_directory(\n",
        "    'aclImdb/train', batch_size=batch_size)\n",
        "\n",
        "val_ds = keras.utils.text_dataset_from_directory(\n",
        "    'aclImdb/val', batch_size=batch_size)\n",
        "\n",
        "test_ds = keras.utils.text_dataset_from_directory(\n",
        "    'aclImdb/test', batch_size=batch_size)\n"
      ],
      "metadata": {
        "colab": {
          "base_uri": "https://localhost:8080/"
        },
        "id": "2w_iRuMuPY84",
        "outputId": "860a3bac-273e-4041-b409-9d7be0dee0c8"
      },
      "execution_count": 20,
      "outputs": [
        {
          "output_type": "stream",
          "name": "stdout",
          "text": [
            "Found 20000 files belonging to 2 classes.\n",
            "Found 5000 files belonging to 2 classes.\n",
            "Found 25000 files belonging to 2 classes.\n"
          ]
        }
      ]
    }
  ]
}